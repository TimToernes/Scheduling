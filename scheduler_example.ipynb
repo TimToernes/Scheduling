{
 "cells": [
  {
   "cell_type": "code",
   "execution_count": 1,
   "metadata": {},
   "outputs": [],
   "source": [
    "import numpy as np\n",
    "import pandas as pd\n",
    "import plotly.graph_objects as go"
   ]
  },
  {
   "cell_type": "code",
   "execution_count": 2,
   "metadata": {},
   "outputs": [],
   "source": [
    "from scheduler import daily_scheduler"
   ]
  },
  {
   "cell_type": "markdown",
   "metadata": {},
   "source": [
    "## Create artificial data"
   ]
  },
  {
   "cell_type": "code",
   "execution_count": 3,
   "metadata": {},
   "outputs": [],
   "source": [
    "t_start = '2015-01-01T00:00Z' # start time does not matter here. Total period length is the important factor\n",
    "t_end = '2015-01-01T23:00Z'\n",
    "\n",
    "hours=pd.date_range(t_start,t_end,freq='H') #'2017-12-31T23:00Z'\n",
    "spot_price = [140]\n",
    "max_rate = 20\n",
    "rate = 0\n",
    "for i in range(len(hours)-1):\n",
    "    rate = rate + (np.random.rand()*2-1)*max_rate\n",
    "    spot_price.append(spot_price[i-1]+rate)\n",
    "\n",
    "P = pd.Series(index=hours,data=spot_price)\n",
    "\n",
    "CO2_int = [100]\n",
    "max_rate = 20\n",
    "rate = -10 \n",
    "for i in range(len(hours)-1):\n",
    "    rate = rate + (np.random.rand()*2-1)*max_rate\n",
    "    new_CO2_int = CO2_int[i-1]+rate\n",
    "    if new_CO2_int <= 0 :\n",
    "        new_CO2_int = 0\n",
    "        rate = 20\n",
    "    CO2_int.append(new_CO2_int)\n",
    "\n",
    "C = pd.Series(index=hours,data=CO2_int)"
   ]
  },
  {
   "cell_type": "markdown",
   "metadata": {},
   "source": [
    "## Set parameters"
   ]
  },
  {
   "cell_type": "code",
   "execution_count": 4,
   "metadata": {},
   "outputs": [],
   "source": [
    "alpha = 0.5\n",
    "beta = 0.5\n",
    "G = 3"
   ]
  },
  {
   "cell_type": "markdown",
   "metadata": {},
   "source": [
    "## Call sheduler"
   ]
  },
  {
   "cell_type": "code",
   "execution_count": 5,
   "metadata": {
    "scrolled": true
   },
   "outputs": [],
   "source": [
    "g,I = daily_scheduler(C,P,alpha,beta,G)"
   ]
  },
  {
   "cell_type": "code",
   "execution_count": 6,
   "metadata": {},
   "outputs": [
    {
     "data": {
      "application/vnd.plotly.v1+json": {
       "config": {
        "plotlyServerURL": "https://plot.ly"
       },
       "data": [
        {
         "name": "Optimal production",
         "type": "scatter",
         "x": [
          "2015-01-01T00:00:00+00:00",
          "2015-01-01T01:00:00+00:00",
          "2015-01-01T02:00:00+00:00",
          "2015-01-01T03:00:00+00:00",
          "2015-01-01T04:00:00+00:00",
          "2015-01-01T05:00:00+00:00",
          "2015-01-01T06:00:00+00:00",
          "2015-01-01T07:00:00+00:00",
          "2015-01-01T08:00:00+00:00",
          "2015-01-01T09:00:00+00:00",
          "2015-01-01T10:00:00+00:00",
          "2015-01-01T11:00:00+00:00",
          "2015-01-01T12:00:00+00:00",
          "2015-01-01T13:00:00+00:00",
          "2015-01-01T14:00:00+00:00",
          "2015-01-01T15:00:00+00:00",
          "2015-01-01T16:00:00+00:00",
          "2015-01-01T17:00:00+00:00",
          "2015-01-01T18:00:00+00:00",
          "2015-01-01T19:00:00+00:00",
          "2015-01-01T20:00:00+00:00",
          "2015-01-01T21:00:00+00:00",
          "2015-01-01T22:00:00+00:00",
          "2015-01-01T23:00:00+00:00"
         ],
         "y": [
          1,
          1,
          0.9999999999989959,
          1.0040857034709916e-12,
          0,
          0,
          0,
          0,
          0,
          0,
          0,
          0,
          0,
          0,
          0,
          0,
          0,
          0,
          0,
          0,
          0,
          0,
          0,
          0
         ]
        },
        {
         "name": "CO2 intensity",
         "type": "scatter",
         "x": [
          "2015-01-01T00:00:00+00:00",
          "2015-01-01T01:00:00+00:00",
          "2015-01-01T02:00:00+00:00",
          "2015-01-01T03:00:00+00:00",
          "2015-01-01T04:00:00+00:00",
          "2015-01-01T05:00:00+00:00",
          "2015-01-01T06:00:00+00:00",
          "2015-01-01T07:00:00+00:00",
          "2015-01-01T08:00:00+00:00",
          "2015-01-01T09:00:00+00:00",
          "2015-01-01T10:00:00+00:00",
          "2015-01-01T11:00:00+00:00",
          "2015-01-01T12:00:00+00:00",
          "2015-01-01T13:00:00+00:00",
          "2015-01-01T14:00:00+00:00",
          "2015-01-01T15:00:00+00:00",
          "2015-01-01T16:00:00+00:00",
          "2015-01-01T17:00:00+00:00",
          "2015-01-01T18:00:00+00:00",
          "2015-01-01T19:00:00+00:00",
          "2015-01-01T20:00:00+00:00",
          "2015-01-01T21:00:00+00:00",
          "2015-01-01T22:00:00+00:00",
          "2015-01-01T23:00:00+00:00"
         ],
         "y": [
          0.3790755937131682,
          0.3837763019382987,
          0.4056347616811559,
          0.38600819872597464,
          0.3957754162867716,
          0.397853320898892,
          0.42450919995757663,
          0.4343870923684767,
          0.47922184864646106,
          0.5210799165405862,
          0.5641579393909781,
          0.6205179332362623,
          0.7228614629164514,
          0.8074293568702516,
          0.8362087729132639,
          0.8794168992253834,
          0.8893714223045515,
          0.8959998178149177,
          0.951554051602062,
          0.8893570294107918,
          1,
          0.9010984219533199,
          0.9995085234894967,
          0.9357553942588096
         ]
        },
        {
         "name": "Electricity cost",
         "type": "scatter",
         "x": [
          "2015-01-01T00:00:00+00:00",
          "2015-01-01T01:00:00+00:00",
          "2015-01-01T02:00:00+00:00",
          "2015-01-01T03:00:00+00:00",
          "2015-01-01T04:00:00+00:00",
          "2015-01-01T05:00:00+00:00",
          "2015-01-01T06:00:00+00:00",
          "2015-01-01T07:00:00+00:00",
          "2015-01-01T08:00:00+00:00",
          "2015-01-01T09:00:00+00:00",
          "2015-01-01T10:00:00+00:00",
          "2015-01-01T11:00:00+00:00",
          "2015-01-01T12:00:00+00:00",
          "2015-01-01T13:00:00+00:00",
          "2015-01-01T14:00:00+00:00",
          "2015-01-01T15:00:00+00:00",
          "2015-01-01T16:00:00+00:00",
          "2015-01-01T17:00:00+00:00",
          "2015-01-01T18:00:00+00:00",
          "2015-01-01T19:00:00+00:00",
          "2015-01-01T20:00:00+00:00",
          "2015-01-01T21:00:00+00:00",
          "2015-01-01T22:00:00+00:00",
          "2015-01-01T23:00:00+00:00"
         ],
         "y": [
          0.19833771488066465,
          0.18905585930011887,
          0.216999400547815,
          0.2227449898957134,
          0.2690812035733861,
          0.27344766781719065,
          0.3366616908131773,
          0.3311677013615364,
          0.4191639081172531,
          0.4130996704644804,
          0.5171897229202933,
          0.5150928432294729,
          0.6350961701903263,
          0.6052929311602547,
          0.741390950729558,
          0.6899022669852498,
          0.7992602798498893,
          0.7588192691312116,
          0.8747322025015144,
          0.8367332545259554,
          0.9281091669174745,
          0.900795947850154,
          1,
          0.9620809958308948
         ]
        },
        {
         "name": "Weighted cost",
         "type": "scatter",
         "x": [
          "2015-01-01T00:00:00+00:00",
          "2015-01-01T01:00:00+00:00",
          "2015-01-01T02:00:00+00:00",
          "2015-01-01T03:00:00+00:00",
          "2015-01-01T04:00:00+00:00",
          "2015-01-01T05:00:00+00:00",
          "2015-01-01T06:00:00+00:00",
          "2015-01-01T07:00:00+00:00",
          "2015-01-01T08:00:00+00:00",
          "2015-01-01T09:00:00+00:00",
          "2015-01-01T10:00:00+00:00",
          "2015-01-01T11:00:00+00:00",
          "2015-01-01T12:00:00+00:00",
          "2015-01-01T13:00:00+00:00",
          "2015-01-01T14:00:00+00:00",
          "2015-01-01T15:00:00+00:00",
          "2015-01-01T16:00:00+00:00",
          "2015-01-01T17:00:00+00:00",
          "2015-01-01T18:00:00+00:00",
          "2015-01-01T19:00:00+00:00",
          "2015-01-01T20:00:00+00:00",
          "2015-01-01T21:00:00+00:00",
          "2015-01-01T22:00:00+00:00",
          "2015-01-01T23:00:00+00:00"
         ],
         "y": [
          0.24754090438342008,
          0.24206229995721726,
          0.2683538983189769,
          0.26719678956401355,
          0.3035892026378527,
          0.30733356042941773,
          0.3606089925583387,
          0.3592967780170564,
          0.4355610252850613,
          0.44253507655750307,
          0.5300383874931966,
          0.5438466602256028,
          0.6590610099648562,
          0.6603728355436093,
          0.7672889157057585,
          0.7415592431050416,
          0.8238853507976599,
          0.7962459680223772,
          0.8957515043592463,
          0.8511634614823457,
          0.9477939347200188,
          0.900998706479148,
          1,
          0.9550467612851196
         ]
        }
       ],
       "layout": {
        "template": {
         "data": {
          "bar": [
           {
            "error_x": {
             "color": "#2a3f5f"
            },
            "error_y": {
             "color": "#2a3f5f"
            },
            "marker": {
             "line": {
              "color": "#E5ECF6",
              "width": 0.5
             }
            },
            "type": "bar"
           }
          ],
          "barpolar": [
           {
            "marker": {
             "line": {
              "color": "#E5ECF6",
              "width": 0.5
             }
            },
            "type": "barpolar"
           }
          ],
          "carpet": [
           {
            "aaxis": {
             "endlinecolor": "#2a3f5f",
             "gridcolor": "white",
             "linecolor": "white",
             "minorgridcolor": "white",
             "startlinecolor": "#2a3f5f"
            },
            "baxis": {
             "endlinecolor": "#2a3f5f",
             "gridcolor": "white",
             "linecolor": "white",
             "minorgridcolor": "white",
             "startlinecolor": "#2a3f5f"
            },
            "type": "carpet"
           }
          ],
          "choropleth": [
           {
            "colorbar": {
             "outlinewidth": 0,
             "ticks": ""
            },
            "type": "choropleth"
           }
          ],
          "contour": [
           {
            "colorbar": {
             "outlinewidth": 0,
             "ticks": ""
            },
            "colorscale": [
             [
              0,
              "#0d0887"
             ],
             [
              0.1111111111111111,
              "#46039f"
             ],
             [
              0.2222222222222222,
              "#7201a8"
             ],
             [
              0.3333333333333333,
              "#9c179e"
             ],
             [
              0.4444444444444444,
              "#bd3786"
             ],
             [
              0.5555555555555556,
              "#d8576b"
             ],
             [
              0.6666666666666666,
              "#ed7953"
             ],
             [
              0.7777777777777778,
              "#fb9f3a"
             ],
             [
              0.8888888888888888,
              "#fdca26"
             ],
             [
              1,
              "#f0f921"
             ]
            ],
            "type": "contour"
           }
          ],
          "contourcarpet": [
           {
            "colorbar": {
             "outlinewidth": 0,
             "ticks": ""
            },
            "type": "contourcarpet"
           }
          ],
          "heatmap": [
           {
            "colorbar": {
             "outlinewidth": 0,
             "ticks": ""
            },
            "colorscale": [
             [
              0,
              "#0d0887"
             ],
             [
              0.1111111111111111,
              "#46039f"
             ],
             [
              0.2222222222222222,
              "#7201a8"
             ],
             [
              0.3333333333333333,
              "#9c179e"
             ],
             [
              0.4444444444444444,
              "#bd3786"
             ],
             [
              0.5555555555555556,
              "#d8576b"
             ],
             [
              0.6666666666666666,
              "#ed7953"
             ],
             [
              0.7777777777777778,
              "#fb9f3a"
             ],
             [
              0.8888888888888888,
              "#fdca26"
             ],
             [
              1,
              "#f0f921"
             ]
            ],
            "type": "heatmap"
           }
          ],
          "heatmapgl": [
           {
            "colorbar": {
             "outlinewidth": 0,
             "ticks": ""
            },
            "colorscale": [
             [
              0,
              "#0d0887"
             ],
             [
              0.1111111111111111,
              "#46039f"
             ],
             [
              0.2222222222222222,
              "#7201a8"
             ],
             [
              0.3333333333333333,
              "#9c179e"
             ],
             [
              0.4444444444444444,
              "#bd3786"
             ],
             [
              0.5555555555555556,
              "#d8576b"
             ],
             [
              0.6666666666666666,
              "#ed7953"
             ],
             [
              0.7777777777777778,
              "#fb9f3a"
             ],
             [
              0.8888888888888888,
              "#fdca26"
             ],
             [
              1,
              "#f0f921"
             ]
            ],
            "type": "heatmapgl"
           }
          ],
          "histogram": [
           {
            "marker": {
             "colorbar": {
              "outlinewidth": 0,
              "ticks": ""
             }
            },
            "type": "histogram"
           }
          ],
          "histogram2d": [
           {
            "colorbar": {
             "outlinewidth": 0,
             "ticks": ""
            },
            "colorscale": [
             [
              0,
              "#0d0887"
             ],
             [
              0.1111111111111111,
              "#46039f"
             ],
             [
              0.2222222222222222,
              "#7201a8"
             ],
             [
              0.3333333333333333,
              "#9c179e"
             ],
             [
              0.4444444444444444,
              "#bd3786"
             ],
             [
              0.5555555555555556,
              "#d8576b"
             ],
             [
              0.6666666666666666,
              "#ed7953"
             ],
             [
              0.7777777777777778,
              "#fb9f3a"
             ],
             [
              0.8888888888888888,
              "#fdca26"
             ],
             [
              1,
              "#f0f921"
             ]
            ],
            "type": "histogram2d"
           }
          ],
          "histogram2dcontour": [
           {
            "colorbar": {
             "outlinewidth": 0,
             "ticks": ""
            },
            "colorscale": [
             [
              0,
              "#0d0887"
             ],
             [
              0.1111111111111111,
              "#46039f"
             ],
             [
              0.2222222222222222,
              "#7201a8"
             ],
             [
              0.3333333333333333,
              "#9c179e"
             ],
             [
              0.4444444444444444,
              "#bd3786"
             ],
             [
              0.5555555555555556,
              "#d8576b"
             ],
             [
              0.6666666666666666,
              "#ed7953"
             ],
             [
              0.7777777777777778,
              "#fb9f3a"
             ],
             [
              0.8888888888888888,
              "#fdca26"
             ],
             [
              1,
              "#f0f921"
             ]
            ],
            "type": "histogram2dcontour"
           }
          ],
          "mesh3d": [
           {
            "colorbar": {
             "outlinewidth": 0,
             "ticks": ""
            },
            "type": "mesh3d"
           }
          ],
          "parcoords": [
           {
            "line": {
             "colorbar": {
              "outlinewidth": 0,
              "ticks": ""
             }
            },
            "type": "parcoords"
           }
          ],
          "pie": [
           {
            "automargin": true,
            "type": "pie"
           }
          ],
          "scatter": [
           {
            "marker": {
             "colorbar": {
              "outlinewidth": 0,
              "ticks": ""
             }
            },
            "type": "scatter"
           }
          ],
          "scatter3d": [
           {
            "line": {
             "colorbar": {
              "outlinewidth": 0,
              "ticks": ""
             }
            },
            "marker": {
             "colorbar": {
              "outlinewidth": 0,
              "ticks": ""
             }
            },
            "type": "scatter3d"
           }
          ],
          "scattercarpet": [
           {
            "marker": {
             "colorbar": {
              "outlinewidth": 0,
              "ticks": ""
             }
            },
            "type": "scattercarpet"
           }
          ],
          "scattergeo": [
           {
            "marker": {
             "colorbar": {
              "outlinewidth": 0,
              "ticks": ""
             }
            },
            "type": "scattergeo"
           }
          ],
          "scattergl": [
           {
            "marker": {
             "colorbar": {
              "outlinewidth": 0,
              "ticks": ""
             }
            },
            "type": "scattergl"
           }
          ],
          "scattermapbox": [
           {
            "marker": {
             "colorbar": {
              "outlinewidth": 0,
              "ticks": ""
             }
            },
            "type": "scattermapbox"
           }
          ],
          "scatterpolar": [
           {
            "marker": {
             "colorbar": {
              "outlinewidth": 0,
              "ticks": ""
             }
            },
            "type": "scatterpolar"
           }
          ],
          "scatterpolargl": [
           {
            "marker": {
             "colorbar": {
              "outlinewidth": 0,
              "ticks": ""
             }
            },
            "type": "scatterpolargl"
           }
          ],
          "scatterternary": [
           {
            "marker": {
             "colorbar": {
              "outlinewidth": 0,
              "ticks": ""
             }
            },
            "type": "scatterternary"
           }
          ],
          "surface": [
           {
            "colorbar": {
             "outlinewidth": 0,
             "ticks": ""
            },
            "colorscale": [
             [
              0,
              "#0d0887"
             ],
             [
              0.1111111111111111,
              "#46039f"
             ],
             [
              0.2222222222222222,
              "#7201a8"
             ],
             [
              0.3333333333333333,
              "#9c179e"
             ],
             [
              0.4444444444444444,
              "#bd3786"
             ],
             [
              0.5555555555555556,
              "#d8576b"
             ],
             [
              0.6666666666666666,
              "#ed7953"
             ],
             [
              0.7777777777777778,
              "#fb9f3a"
             ],
             [
              0.8888888888888888,
              "#fdca26"
             ],
             [
              1,
              "#f0f921"
             ]
            ],
            "type": "surface"
           }
          ],
          "table": [
           {
            "cells": {
             "fill": {
              "color": "#EBF0F8"
             },
             "line": {
              "color": "white"
             }
            },
            "header": {
             "fill": {
              "color": "#C8D4E3"
             },
             "line": {
              "color": "white"
             }
            },
            "type": "table"
           }
          ]
         },
         "layout": {
          "annotationdefaults": {
           "arrowcolor": "#2a3f5f",
           "arrowhead": 0,
           "arrowwidth": 1
          },
          "coloraxis": {
           "colorbar": {
            "outlinewidth": 0,
            "ticks": ""
           }
          },
          "colorscale": {
           "diverging": [
            [
             0,
             "#8e0152"
            ],
            [
             0.1,
             "#c51b7d"
            ],
            [
             0.2,
             "#de77ae"
            ],
            [
             0.3,
             "#f1b6da"
            ],
            [
             0.4,
             "#fde0ef"
            ],
            [
             0.5,
             "#f7f7f7"
            ],
            [
             0.6,
             "#e6f5d0"
            ],
            [
             0.7,
             "#b8e186"
            ],
            [
             0.8,
             "#7fbc41"
            ],
            [
             0.9,
             "#4d9221"
            ],
            [
             1,
             "#276419"
            ]
           ],
           "sequential": [
            [
             0,
             "#0d0887"
            ],
            [
             0.1111111111111111,
             "#46039f"
            ],
            [
             0.2222222222222222,
             "#7201a8"
            ],
            [
             0.3333333333333333,
             "#9c179e"
            ],
            [
             0.4444444444444444,
             "#bd3786"
            ],
            [
             0.5555555555555556,
             "#d8576b"
            ],
            [
             0.6666666666666666,
             "#ed7953"
            ],
            [
             0.7777777777777778,
             "#fb9f3a"
            ],
            [
             0.8888888888888888,
             "#fdca26"
            ],
            [
             1,
             "#f0f921"
            ]
           ],
           "sequentialminus": [
            [
             0,
             "#0d0887"
            ],
            [
             0.1111111111111111,
             "#46039f"
            ],
            [
             0.2222222222222222,
             "#7201a8"
            ],
            [
             0.3333333333333333,
             "#9c179e"
            ],
            [
             0.4444444444444444,
             "#bd3786"
            ],
            [
             0.5555555555555556,
             "#d8576b"
            ],
            [
             0.6666666666666666,
             "#ed7953"
            ],
            [
             0.7777777777777778,
             "#fb9f3a"
            ],
            [
             0.8888888888888888,
             "#fdca26"
            ],
            [
             1,
             "#f0f921"
            ]
           ]
          },
          "colorway": [
           "#636efa",
           "#EF553B",
           "#00cc96",
           "#ab63fa",
           "#FFA15A",
           "#19d3f3",
           "#FF6692",
           "#B6E880",
           "#FF97FF",
           "#FECB52"
          ],
          "font": {
           "color": "#2a3f5f"
          },
          "geo": {
           "bgcolor": "white",
           "lakecolor": "white",
           "landcolor": "#E5ECF6",
           "showlakes": true,
           "showland": true,
           "subunitcolor": "white"
          },
          "hoverlabel": {
           "align": "left"
          },
          "hovermode": "closest",
          "mapbox": {
           "style": "light"
          },
          "paper_bgcolor": "white",
          "plot_bgcolor": "#E5ECF6",
          "polar": {
           "angularaxis": {
            "gridcolor": "white",
            "linecolor": "white",
            "ticks": ""
           },
           "bgcolor": "#E5ECF6",
           "radialaxis": {
            "gridcolor": "white",
            "linecolor": "white",
            "ticks": ""
           }
          },
          "scene": {
           "xaxis": {
            "backgroundcolor": "#E5ECF6",
            "gridcolor": "white",
            "gridwidth": 2,
            "linecolor": "white",
            "showbackground": true,
            "ticks": "",
            "zerolinecolor": "white"
           },
           "yaxis": {
            "backgroundcolor": "#E5ECF6",
            "gridcolor": "white",
            "gridwidth": 2,
            "linecolor": "white",
            "showbackground": true,
            "ticks": "",
            "zerolinecolor": "white"
           },
           "zaxis": {
            "backgroundcolor": "#E5ECF6",
            "gridcolor": "white",
            "gridwidth": 2,
            "linecolor": "white",
            "showbackground": true,
            "ticks": "",
            "zerolinecolor": "white"
           }
          },
          "shapedefaults": {
           "line": {
            "color": "#2a3f5f"
           }
          },
          "ternary": {
           "aaxis": {
            "gridcolor": "white",
            "linecolor": "white",
            "ticks": ""
           },
           "baxis": {
            "gridcolor": "white",
            "linecolor": "white",
            "ticks": ""
           },
           "bgcolor": "#E5ECF6",
           "caxis": {
            "gridcolor": "white",
            "linecolor": "white",
            "ticks": ""
           }
          },
          "title": {
           "x": 0.05
          },
          "xaxis": {
           "automargin": true,
           "gridcolor": "white",
           "linecolor": "white",
           "ticks": "",
           "title": {
            "standoff": 15
           },
           "zerolinecolor": "white",
           "zerolinewidth": 2
          },
          "yaxis": {
           "automargin": true,
           "gridcolor": "white",
           "linecolor": "white",
           "ticks": "",
           "title": {
            "standoff": 15
           },
           "zerolinecolor": "white",
           "zerolinewidth": 2
          }
         }
        }
       }
      }
     },
     "metadata": {},
     "output_type": "display_data"
    }
   ],
   "source": [
    "fig = go.Figure()\n",
    "fig.add_trace(go.Scatter(x=hours,y=g,name='Optimal production'))\n",
    "fig.add_trace(go.Scatter(x=hours,y=C/max(C),name='CO2 intensity'))\n",
    "fig.add_trace(go.Scatter(x=hours,y=P/max(P),name='Electricity cost'))\n",
    "fig.add_trace(go.Scatter(x=hours,y=(alpha*C + beta*P)/max(alpha*C + beta*P),name='Weighted cost'))\n",
    "\n",
    "fig.show()"
   ]
  },
  {
   "cell_type": "code",
   "execution_count": null,
   "metadata": {},
   "outputs": [],
   "source": []
  }
 ],
 "metadata": {
  "kernelspec": {
   "display_name": "Python 3.7.3 64-bit ('base')",
   "language": "python",
   "name": "python37364bitbase40cba8df73c44b28871d36eb4bf9641c"
  },
  "language_info": {
   "codemirror_mode": {
    "name": "ipython",
    "version": 3
   },
   "file_extension": ".py",
   "mimetype": "text/x-python",
   "name": "python",
   "nbconvert_exporter": "python",
   "pygments_lexer": "ipython3",
   "version": "3.7.3"
  }
 },
 "nbformat": 4,
 "nbformat_minor": 2
}
